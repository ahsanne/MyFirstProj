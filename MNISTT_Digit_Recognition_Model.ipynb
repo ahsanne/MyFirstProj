{
  "nbformat": 4,
  "nbformat_minor": 0,
  "metadata": {
    "colab": {
      "name": "MNISTT Digit Recognition Model",
      "provenance": [],
      "collapsed_sections": [],
      "authorship_tag": "ABX9TyMssCzB6nI05dNYDuUH0H0n",
      "include_colab_link": true
    },
    "kernelspec": {
      "name": "python3",
      "display_name": "Python 3"
    }
  },
  "cells": [
    {
      "cell_type": "markdown",
      "metadata": {
        "id": "view-in-github",
        "colab_type": "text"
      },
      "source": [
        "<a href=\"https://colab.research.google.com/github/ahsanne/MyFirstProj/blob/master/MNISTT_Digit_Recognition_Model.ipynb\" target=\"_parent\"><img src=\"https://colab.research.google.com/assets/colab-badge.svg\" alt=\"Open In Colab\"/></a>"
      ]
    },
    {
      "cell_type": "code",
      "metadata": {
        "id": "FCfeG-kDjh54",
        "outputId": "fc303e1e-e2a8-4067-b0f8-15efc78a12f4",
        "colab": {
          "base_uri": "https://localhost:8080/",
          "height": 34
        }
      },
      "source": [
        "from keras.datasets import mnist"
      ],
      "execution_count": null,
      "outputs": [
        {
          "output_type": "stream",
          "text": [
            "Using TensorFlow backend.\n"
          ],
          "name": "stderr"
        }
      ]
    },
    {
      "cell_type": "code",
      "metadata": {
        "id": "m6p0JJ_TwSq4",
        "outputId": "12b2712c-aa2c-4287-eca2-f60ef09aedc6",
        "colab": {
          "base_uri": "https://localhost:8080/",
          "height": 51
        }
      },
      "source": [
        "(train_images, train_labels), (test_images, test_labels) = mnist.load_data()"
      ],
      "execution_count": null,
      "outputs": [
        {
          "output_type": "stream",
          "text": [
            "Downloading data from https://s3.amazonaws.com/img-datasets/mnist.npz\n",
            "11493376/11490434 [==============================] - 1s 0us/step\n"
          ],
          "name": "stdout"
        }
      ]
    },
    {
      "cell_type": "code",
      "metadata": {
        "id": "Y-eLuRQpjvKp",
        "outputId": "04271d01-0002-4c9d-9491-3d0419fc7632",
        "colab": {
          "base_uri": "https://localhost:8080/",
          "height": 34
        }
      },
      "source": [
        "train_images.shape"
      ],
      "execution_count": null,
      "outputs": [
        {
          "output_type": "execute_result",
          "data": {
            "text/plain": [
              "(60000, 28, 28)"
            ]
          },
          "metadata": {
            "tags": []
          },
          "execution_count": 4
        }
      ]
    },
    {
      "cell_type": "code",
      "metadata": {
        "id": "lGANFyhPMOVB",
        "outputId": "b4cac784-f34f-46e9-f492-f5215ecbe612",
        "colab": {
          "base_uri": "https://localhost:8080/",
          "height": 34
        }
      },
      "source": [
        "#Reshaping data into 4 dims for keras (from (60000,28,28) to (60000,28,28,1))\n",
        "\n",
        "\n",
        "img_rows = train_images[0].shape[0]\n",
        "img_cols = train_images[1].shape[0]\n",
        "\n",
        "train_images = train_images.reshape(train_images.shape[0],img_rows ,img_cols ,1)\n",
        "test_images = test_images.reshape(test_images.shape[0],img_rows ,img_cols ,1)\n",
        "\n",
        "# Input Shape Of A Single Picture\n",
        "input_shape = (img_rows , img_cols, 1)\n",
        "\n",
        "# Floating The Data :p\n",
        "train_images = train_images.astype(float)\n",
        "test_images = test_images.astype(float)\n",
        "\n",
        "#Normaliing the data by changing it into a Binary Format\n",
        "train_images /= 255  \n",
        "test_images /= 255\n",
        "\n",
        "print (test_images.shape)\n",
        "\n",
        "\n"
      ],
      "execution_count": null,
      "outputs": [
        {
          "output_type": "stream",
          "text": [
            "(10000, 28, 28, 1)\n"
          ],
          "name": "stdout"
        }
      ]
    },
    {
      "cell_type": "code",
      "metadata": {
        "id": "kV1Bz1DadqQ7"
      },
      "source": [
        "#One Hot Encoding\n",
        "\n",
        "from keras.utils import to_categorical\n",
        "train_labels = to_categorical(train_labels)\n",
        "test_labels = to_categorical(test_labels)\n"
      ],
      "execution_count": null,
      "outputs": []
    },
    {
      "cell_type": "code",
      "metadata": {
        "id": "g-oQpAUNxHh9",
        "outputId": "62bcba81-f767-4e34-d798-18eabfc0d135",
        "colab": {
          "base_uri": "https://localhost:8080/",
          "height": 442
        }
      },
      "source": [
        "#Network's Architecture\n",
        "import keras\n",
        "from keras import models\n",
        "from keras import layers\n",
        "from keras.models import Sequential\n",
        "from keras.layers import Dense, Dropout, Flatten\n",
        "from keras.layers import MaxPooling2D, Conv2D\n",
        "from keras import backend as k\n",
        "from keras.optimizers import SGD\n",
        "\n",
        "# BASE MODEL\n",
        "\n",
        "model = models.Sequential()\n",
        "model.add(layers.Conv2D(32,(3,3),activation = 'relu', input_shape = (28,28,1)))\n",
        "#model.add(layers.Maxpooling2D(2,2))\n",
        "model.add(layers.Conv2D(64,(3,3), activation = 'relu'))\n",
        "model.add(MaxPooling2D(pool_size=(2,2)))\n",
        "#model.add(layers.Conv2D(128,(3,3), activation = 'relu'))\n",
        "#model.add(layers.Maxpooling2D(2,2))\n",
        "#model.add(layers.Conv2D(128,(3,3), activation = 'relu'))\n",
        "#model.add(layers.Maxpooling2D(2,2))\n",
        "model.add(Dropout(0.5))\n",
        "\n",
        "# CLASSIFIER\n",
        "model.add(layers.Flatten())\n",
        "model.add(layers.Dense(128, activation= \"relu\"))\n",
        "model.add(Dropout(0.5))\n",
        "model.add(layers.Dense(10, activation='softmax'))\n",
        "\n",
        "# COMPILER\n",
        "\n",
        "model.compile(optimizer=SGD(0.01),\n",
        "              loss= 'categorical_crossentropy',\n",
        "              metrics=['accuracy'])\n",
        "print(model.summary())\n"
      ],
      "execution_count": null,
      "outputs": [
        {
          "output_type": "stream",
          "text": [
            "Model: \"sequential_1\"\n",
            "_________________________________________________________________\n",
            "Layer (type)                 Output Shape              Param #   \n",
            "=================================================================\n",
            "conv2d_1 (Conv2D)            (None, 26, 26, 32)        320       \n",
            "_________________________________________________________________\n",
            "conv2d_2 (Conv2D)            (None, 24, 24, 64)        18496     \n",
            "_________________________________________________________________\n",
            "max_pooling2d_1 (MaxPooling2 (None, 12, 12, 64)        0         \n",
            "_________________________________________________________________\n",
            "dropout_1 (Dropout)          (None, 12, 12, 64)        0         \n",
            "_________________________________________________________________\n",
            "flatten_1 (Flatten)          (None, 9216)              0         \n",
            "_________________________________________________________________\n",
            "dense_1 (Dense)              (None, 128)               1179776   \n",
            "_________________________________________________________________\n",
            "dropout_2 (Dropout)          (None, 128)               0         \n",
            "_________________________________________________________________\n",
            "dense_2 (Dense)              (None, 10)                1290      \n",
            "=================================================================\n",
            "Total params: 1,199,882\n",
            "Trainable params: 1,199,882\n",
            "Non-trainable params: 0\n",
            "_________________________________________________________________\n",
            "None\n"
          ],
          "name": "stdout"
        }
      ]
    },
    {
      "cell_type": "code",
      "metadata": {
        "id": "2AK2jJBroIY_",
        "outputId": "3e927134-d334-4e18-fa16-7962c392bcdb",
        "colab": {
          "base_uri": "https://localhost:8080/",
          "height": 408
        }
      },
      "source": [
        "# TRAINING THE MODEL\n",
        "history = model.fit(train_images,\n",
        "          train_labels,\n",
        "          batch_size =100,\n",
        "          epochs = 10,\n",
        "          verbose = 1,\n",
        "          validation_data = (test_images,test_labels))\n",
        "score = model.evaluate(test_images,test_labels, verbose = 0)\n",
        "print('test loss:', score[0])\n",
        "print('test accuracy:', score[1])"
      ],
      "execution_count": null,
      "outputs": [
        {
          "output_type": "stream",
          "text": [
            "Train on 60000 samples, validate on 10000 samples\n",
            "Epoch 1/10\n",
            "60000/60000 [==============================] - 127s 2ms/step - loss: 1.0260 - accuracy: 0.6640 - val_loss: 0.3193 - val_accuracy: 0.9093\n",
            "Epoch 2/10\n",
            "60000/60000 [==============================] - 127s 2ms/step - loss: 0.4682 - accuracy: 0.8537 - val_loss: 0.2427 - val_accuracy: 0.9306\n",
            "Epoch 3/10\n",
            "60000/60000 [==============================] - 127s 2ms/step - loss: 0.3896 - accuracy: 0.8811 - val_loss: 0.2031 - val_accuracy: 0.9422\n",
            "Epoch 4/10\n",
            "60000/60000 [==============================] - 127s 2ms/step - loss: 0.3360 - accuracy: 0.8964 - val_loss: 0.1811 - val_accuracy: 0.9469\n",
            "Epoch 5/10\n",
            "60000/60000 [==============================] - 127s 2ms/step - loss: 0.3032 - accuracy: 0.9086 - val_loss: 0.1584 - val_accuracy: 0.9543\n",
            "Epoch 6/10\n",
            "60000/60000 [==============================] - 127s 2ms/step - loss: 0.2733 - accuracy: 0.9179 - val_loss: 0.1398 - val_accuracy: 0.9591\n",
            "Epoch 7/10\n",
            "60000/60000 [==============================] - 127s 2ms/step - loss: 0.2503 - accuracy: 0.9252 - val_loss: 0.1259 - val_accuracy: 0.9643\n",
            "Epoch 8/10\n",
            "60000/60000 [==============================] - 127s 2ms/step - loss: 0.2287 - accuracy: 0.9321 - val_loss: 0.1140 - val_accuracy: 0.9651\n",
            "Epoch 9/10\n",
            "60000/60000 [==============================] - 127s 2ms/step - loss: 0.2093 - accuracy: 0.9376 - val_loss: 0.1047 - val_accuracy: 0.9688\n",
            "Epoch 10/10\n",
            "60000/60000 [==============================] - 127s 2ms/step - loss: 0.1908 - accuracy: 0.9434 - val_loss: 0.0958 - val_accuracy: 0.9718\n",
            "test loss: 0.09583237925227732\n",
            "test accuracy: 0.9718000292778015\n"
          ],
          "name": "stdout"
        }
      ]
    },
    {
      "cell_type": "code",
      "metadata": {
        "id": "TTsC6L8Gjx6N"
      },
      "source": [
        "# With Batch_size = 32, epochs = 1 ....  train_loss,train_acc = (0.6253,0.8014) ===== test_loss,test_acc = 0.20,0.93 ====== val_loss,val_acc = 0.20,0.93\n",
        "# with Batch_size = 100, epochs = 10.....  0.1865,0.944"
      ],
      "execution_count": null,
      "outputs": []
    },
    {
      "cell_type": "code",
      "metadata": {
        "id": "qX8Ne9SjjyJm"
      },
      "source": [
        "model.save('MNISTDatataset.h5')"
      ],
      "execution_count": null,
      "outputs": []
    }
  ]
}